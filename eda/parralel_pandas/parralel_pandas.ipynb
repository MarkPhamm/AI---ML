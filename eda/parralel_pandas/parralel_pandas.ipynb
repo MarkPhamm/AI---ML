{
 "cells": [
  {
   "cell_type": "code",
   "execution_count": 5,
   "metadata": {},
   "outputs": [],
   "source": [
    "import time\n",
    "import numpy as np\n",
    "import pandas as pd\n",
    "from parallel_pandas import ParallelPandas"
   ]
  },
  {
   "cell_type": "code",
   "execution_count": 4,
   "metadata": {},
   "outputs": [
    {
     "name": "stdout",
     "output_type": "stream",
     "text": [
      "Time taken: 7.067153692245483 seconds\n"
     ]
    }
   ],
   "source": [
    "# Initialize parallel-pandas\n",
    "ParallelPandas.initialize(n_cpu=16, split_factor=4, disable_pr_bar=True)\n",
    "\n",
    "# Create big DataFrame\n",
    "df = pd.DataFrame(np.random.random((1_000_000, 100)))\n",
    "\n",
    "# Calculate multiple quantiles. Pandas only uses one core of CPU\n",
    "start_time = time.time()\n",
    "res = df.quantile(q=[.25, .5, .95], axis=1)\n",
    "end_time = time.time()\n",
    "\n",
    "print(\"Time taken:\", end_time - start_time, \"seconds\")\n"
   ]
  },
  {
   "cell_type": "code",
   "execution_count": 6,
   "metadata": {},
   "outputs": [
    {
     "name": "stdout",
     "output_type": "stream",
     "text": [
      "Time taken: 1.0469441413879395 seconds\n"
     ]
    }
   ],
   "source": [
    "# Calculate multiple quantiles. Pandas only uses one core of CPU\n",
    "start_time = time.time()\n",
    "res = df.p_quantile(q=[.25, .5, .95], axis=1)\n",
    "end_time = time.time()\n",
    "\n",
    "print(\"Time taken:\", end_time - start_time, \"seconds\")\n"
   ]
  }
 ],
 "metadata": {
  "kernelspec": {
   "display_name": "base",
   "language": "python",
   "name": "python3"
  },
  "language_info": {
   "codemirror_mode": {
    "name": "ipython",
    "version": 3
   },
   "file_extension": ".py",
   "mimetype": "text/x-python",
   "name": "python",
   "nbconvert_exporter": "python",
   "pygments_lexer": "ipython3",
   "version": "3.11.5"
  }
 },
 "nbformat": 4,
 "nbformat_minor": 2
}
